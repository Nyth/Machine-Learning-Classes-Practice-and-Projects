{
 "cells": [
  {
   "cell_type": "markdown",
   "id": "87b074a7-1d8a-493e-8e0a-77ce428fbffe",
   "metadata": {},
   "source": [
    "BREAK means it will skip , it will terminate the loop after those"
   ]
  },
  {
   "cell_type": "code",
   "execution_count": 1,
   "id": "83e62ca2-1855-458d-a492-60d4537bf23c",
   "metadata": {},
   "outputs": [
    {
     "name": "stdout",
     "output_type": "stream",
     "text": [
      "1\n",
      "2\n",
      "3\n",
      "4\n",
      "5\n",
      "6\n",
      "7\n",
      "8\n",
      "9\n",
      "10\n",
      "11\n",
      "12\n",
      "13\n",
      "14\n",
      "15\n",
      "16\n",
      "17\n",
      "18\n",
      "19\n"
     ]
    }
   ],
   "source": [
    "for i in range(1,20): #start n to n_1\n",
    "    print(i)"
   ]
  },
  {
   "cell_type": "code",
   "execution_count": 3,
   "id": "f9765fca-5ca9-45c7-8562-6340ccb8a0aa",
   "metadata": {},
   "outputs": [
    {
     "name": "stdout",
     "output_type": "stream",
     "text": [
      "1\n",
      "2\n",
      "3\n",
      "4\n",
      "5\n",
      "6\n",
      "7\n",
      "8\n",
      "9\n",
      "10\n",
      "11\n",
      "12\n",
      "13\n",
      "14\n",
      "15\n",
      "16\n",
      "17\n",
      "18\n",
      "19\n"
     ]
    }
   ],
   "source": [
    "for i in range(1,20): #start n to n_1\n",
    "    if i==10:\n",
    "         break\n",
    "    print(i)"
   ]
  },
  {
   "cell_type": "markdown",
   "id": "1656b0a0-ccd2-4eab-94b8-441cfa385f23",
   "metadata": {},
   "source": [
    "Continue , It means Ignore that value just"
   ]
  },
  {
   "cell_type": "code",
   "execution_count": 4,
   "id": "f6fd9152-6b41-4de3-badf-dc7ae7b02e5e",
   "metadata": {},
   "outputs": [
    {
     "name": "stdout",
     "output_type": "stream",
     "text": [
      "1\n",
      "2\n",
      "3\n",
      "4\n",
      "5\n",
      "6\n",
      "7\n",
      "8\n",
      "9\n",
      "11\n",
      "12\n",
      "13\n",
      "14\n",
      "15\n",
      "16\n",
      "17\n",
      "18\n",
      "19\n"
     ]
    }
   ],
   "source": [
    "for i in range(1,20): #start n to n_1\n",
    "    if i==10:\n",
    "         continue\n",
    "    print(i)"
   ]
  },
  {
   "cell_type": "code",
   "execution_count": 5,
   "id": "47101e65-a195-4a4c-845c-8b8fa61e3c93",
   "metadata": {},
   "outputs": [
    {
     "name": "stdout",
     "output_type": "stream",
     "text": [
      "2\n",
      "4\n",
      "6\n",
      "8\n",
      "10\n",
      "12\n",
      "14\n",
      "16\n",
      "18\n"
     ]
    }
   ],
   "source": [
    "for i in range(1,20): #start n to n_1\n",
    "    if i%2==1: #even\n",
    "         continue\n",
    "    print(i)"
   ]
  },
  {
   "cell_type": "code",
   "execution_count": 6,
   "id": "5644fc11-57d6-45e4-b14d-529fab172f06",
   "metadata": {},
   "outputs": [
    {
     "name": "stdout",
     "output_type": "stream",
     "text": [
      "1\n",
      "3\n",
      "5\n",
      "7\n",
      "9\n",
      "11\n",
      "13\n",
      "15\n",
      "17\n",
      "19\n"
     ]
    }
   ],
   "source": [
    "for i in range(1,20): #start n to n_1\n",
    "    if i%2==0: #odd\n",
    "         continue\n",
    "    print(i)"
   ]
  },
  {
   "cell_type": "markdown",
   "id": "be634dcb-c664-49b2-9b60-efac53a3db10",
   "metadata": {},
   "source": [
    "List \n",
    "#Ordered\n",
    "#Changable\n",
    "#Allow duplicates"
   ]
  },
  {
   "cell_type": "code",
   "execution_count": 7,
   "id": "a0430fc7-af1d-45ce-a473-9f1682258202",
   "metadata": {},
   "outputs": [],
   "source": [
    "li=[10,14,15,200]"
   ]
  },
  {
   "cell_type": "code",
   "execution_count": 8,
   "id": "e5f3c30b-b4ab-45e8-bad2-7c1b3ba4136d",
   "metadata": {},
   "outputs": [
    {
     "data": {
      "text/plain": [
       "list"
      ]
     },
     "execution_count": 8,
     "metadata": {},
     "output_type": "execute_result"
    }
   ],
   "source": [
    "type(li)"
   ]
  },
  {
   "cell_type": "code",
   "execution_count": 9,
   "id": "46688f4b-92a0-4ba6-9593-dea06dbf900b",
   "metadata": {},
   "outputs": [
    {
     "data": {
      "text/plain": [
       "88"
      ]
     },
     "execution_count": 9,
     "metadata": {},
     "output_type": "execute_result"
    }
   ],
   "source": [
    "import sys\n",
    "sys.getsizeof(li)"
   ]
  },
  {
   "cell_type": "code",
   "execution_count": 10,
   "id": "91d731b2-3a07-4156-8a5f-b485504727ab",
   "metadata": {},
   "outputs": [
    {
     "data": {
      "text/plain": [
       "72"
      ]
     },
     "execution_count": 10,
     "metadata": {},
     "output_type": "execute_result"
    }
   ],
   "source": [
    "tp=(10,14,15,200)\n",
    "sys.getsizeof(tp)"
   ]
  },
  {
   "cell_type": "code",
   "execution_count": 11,
   "id": "e17bf62b-d263-4649-93eb-fba9e1da7879",
   "metadata": {},
   "outputs": [
    {
     "data": {
      "text/plain": [
       "216"
      ]
     },
     "execution_count": 11,
     "metadata": {},
     "output_type": "execute_result"
    }
   ],
   "source": [
    "s={10,14,15,200}\n",
    "sys.getsizeof(s)"
   ]
  },
  {
   "cell_type": "code",
   "execution_count": 12,
   "id": "5d158633-094e-40ba-9cce-fab574523345",
   "metadata": {},
   "outputs": [
    {
     "data": {
      "text/plain": [
       "set"
      ]
     },
     "execution_count": 12,
     "metadata": {},
     "output_type": "execute_result"
    }
   ],
   "source": [
    "type(s)"
   ]
  },
  {
   "cell_type": "code",
   "execution_count": 13,
   "id": "5e16515b-2a2a-49d0-a5b7-c9d44ff081bd",
   "metadata": {},
   "outputs": [
    {
     "data": {
      "text/plain": [
       "tuple"
      ]
     },
     "execution_count": 13,
     "metadata": {},
     "output_type": "execute_result"
    }
   ],
   "source": [
    "type(tp)"
   ]
  },
  {
   "cell_type": "code",
   "execution_count": 14,
   "id": "76e753f9-008f-4586-9835-10dc6ac56e34",
   "metadata": {},
   "outputs": [],
   "source": [
    "li=[10,14,15,200]"
   ]
  },
  {
   "cell_type": "code",
   "execution_count": 15,
   "id": "2d0c2f79-f8e1-4626-95c8-f04998c75360",
   "metadata": {},
   "outputs": [
    {
     "data": {
      "text/plain": [
       "[10, 14, 15, 200]"
      ]
     },
     "execution_count": 15,
     "metadata": {},
     "output_type": "execute_result"
    }
   ],
   "source": [
    "li\n"
   ]
  },
  {
   "cell_type": "code",
   "execution_count": 16,
   "id": "f3e6d163-e568-4045-b8d8-93018bb0d5f2",
   "metadata": {},
   "outputs": [
    {
     "data": {
      "text/plain": [
       "10"
      ]
     },
     "execution_count": 16,
     "metadata": {},
     "output_type": "execute_result"
    }
   ],
   "source": [
    "li[0]"
   ]
  },
  {
   "cell_type": "code",
   "execution_count": 17,
   "id": "40422b15-2c22-4368-9ad0-414354d89747",
   "metadata": {},
   "outputs": [
    {
     "data": {
      "text/plain": [
       "15"
      ]
     },
     "execution_count": 17,
     "metadata": {},
     "output_type": "execute_result"
    }
   ],
   "source": [
    "li[2]"
   ]
  },
  {
   "cell_type": "code",
   "execution_count": 18,
   "id": "a0245148-fe80-4c6b-866e-322e72b22cfd",
   "metadata": {},
   "outputs": [
    {
     "data": {
      "text/plain": [
       "200"
      ]
     },
     "execution_count": 18,
     "metadata": {},
     "output_type": "execute_result"
    }
   ],
   "source": [
    "li[-1]"
   ]
  },
  {
   "cell_type": "code",
   "execution_count": 20,
   "id": "69af17a5-c0ac-4116-82fa-1eb563b90bb6",
   "metadata": {},
   "outputs": [
    {
     "data": {
      "text/plain": [
       "[14, 15, 200]"
      ]
     },
     "execution_count": 20,
     "metadata": {},
     "output_type": "execute_result"
    }
   ],
   "source": [
    "li[1:4]"
   ]
  },
  {
   "cell_type": "code",
   "execution_count": 22,
   "id": "16f5e206-aaa1-482e-bc3a-0dd9ab56378e",
   "metadata": {},
   "outputs": [
    {
     "data": {
      "text/plain": [
       "[10, 14, 15]"
      ]
     },
     "execution_count": 22,
     "metadata": {},
     "output_type": "execute_result"
    }
   ],
   "source": [
    "li[-4:-1]"
   ]
  },
  {
   "cell_type": "code",
   "execution_count": 24,
   "id": "af676414-3475-4ce0-9231-edc534d765ae",
   "metadata": {},
   "outputs": [],
   "source": [
    "li=[10,14,15,200,'data','science',[1,2,3,4]]"
   ]
  },
  {
   "cell_type": "code",
   "execution_count": 25,
   "id": "9d236f7c-2eb7-4b25-9d4f-9c83cf69a7ff",
   "metadata": {},
   "outputs": [
    {
     "data": {
      "text/plain": [
       "[10, 14, 15, 200, 'data', 'science', [1, 2, 3, 4]]"
      ]
     },
     "execution_count": 25,
     "metadata": {},
     "output_type": "execute_result"
    }
   ],
   "source": [
    "li"
   ]
  },
  {
   "cell_type": "code",
   "execution_count": 26,
   "id": "c498ac79-54f1-43d2-a3c4-97c33975597c",
   "metadata": {},
   "outputs": [
    {
     "data": {
      "text/plain": [
       "list"
      ]
     },
     "execution_count": 26,
     "metadata": {},
     "output_type": "execute_result"
    }
   ],
   "source": [
    "type(li)"
   ]
  },
  {
   "cell_type": "code",
   "execution_count": 27,
   "id": "80a85e93-fe44-4c59-9f61-ee1f9c97c165",
   "metadata": {},
   "outputs": [
    {
     "data": {
      "text/plain": [
       "[1, 2, 3, 4]"
      ]
     },
     "execution_count": 27,
     "metadata": {},
     "output_type": "execute_result"
    }
   ],
   "source": [
    "li[-1]"
   ]
  },
  {
   "cell_type": "code",
   "execution_count": 28,
   "id": "8b2757ba-2f8f-4b5d-8dc3-ba0db3f2828e",
   "metadata": {},
   "outputs": [
    {
     "data": {
      "text/plain": [
       "1"
      ]
     },
     "execution_count": 28,
     "metadata": {},
     "output_type": "execute_result"
    }
   ],
   "source": [
    "li[-1][0]"
   ]
  },
  {
   "cell_type": "code",
   "execution_count": 31,
   "id": "eb165de3-0b15-4441-82b2-0b9b412fcb77",
   "metadata": {},
   "outputs": [
    {
     "data": {
      "text/plain": [
       "[2, 3]"
      ]
     },
     "execution_count": 31,
     "metadata": {},
     "output_type": "execute_result"
    }
   ],
   "source": [
    "li[-1][1:3]"
   ]
  },
  {
   "cell_type": "code",
   "execution_count": 32,
   "id": "17c775af-6780-4f08-9235-0127eb21a061",
   "metadata": {},
   "outputs": [],
   "source": [
    "li[0]='ai'"
   ]
  },
  {
   "cell_type": "code",
   "execution_count": 33,
   "id": "80665221-1562-4343-80c7-af6301f64ea1",
   "metadata": {},
   "outputs": [
    {
     "data": {
      "text/plain": [
       "['ai', 14, 15, 200, 'data', 'science', [1, 2, 3, 4]]"
      ]
     },
     "execution_count": 33,
     "metadata": {},
     "output_type": "execute_result"
    }
   ],
   "source": [
    "li\n"
   ]
  },
  {
   "cell_type": "code",
   "execution_count": 34,
   "id": "27a4af3a-b35b-4262-8986-3419011fe12b",
   "metadata": {},
   "outputs": [],
   "source": [
    "li[1]='ai'"
   ]
  },
  {
   "cell_type": "code",
   "execution_count": 35,
   "id": "9457bf50-0d83-4fc4-b596-7f241282a0c5",
   "metadata": {},
   "outputs": [
    {
     "data": {
      "text/plain": [
       "['ai', 'ai', 15, 200, 'data', 'science', [1, 2, 3, 4]]"
      ]
     },
     "execution_count": 35,
     "metadata": {},
     "output_type": "execute_result"
    }
   ],
   "source": [
    "li"
   ]
  },
  {
   "cell_type": "code",
   "execution_count": 36,
   "id": "757958bb-67c8-400e-9985-26761de72529",
   "metadata": {},
   "outputs": [
    {
     "name": "stdout",
     "output_type": "stream",
     "text": [
      "15\n",
      "200\n",
      "data\n",
      "science\n",
      "[1, 2, 3, 4]\n"
     ]
    }
   ],
   "source": [
    "for i in li:\n",
    "    if i=='ai':\n",
    "        continue\n",
    "    print(i)"
   ]
  },
  {
   "cell_type": "code",
   "execution_count": 38,
   "id": "d2a70247-6a63-4e3c-9207-49958949e721",
   "metadata": {},
   "outputs": [
    {
     "name": "stdout",
     "output_type": "stream",
     "text": [
      "ai\n",
      "ai\n",
      "15\n",
      "200\n",
      "data\n"
     ]
    }
   ],
   "source": [
    "for i in li:\n",
    "    if i=='science':\n",
    "        break\n",
    "    print(i)"
   ]
  },
  {
   "cell_type": "code",
   "execution_count": 41,
   "id": "90fa555c-05ee-4912-880a-1404fabc8236",
   "metadata": {},
   "outputs": [],
   "source": [
    "li.append('python') #to add data in list"
   ]
  },
  {
   "cell_type": "code",
   "execution_count": 43,
   "id": "b6a43bc7-3abf-4bfc-89c5-6b895b627aeb",
   "metadata": {},
   "outputs": [
    {
     "data": {
      "text/plain": [
       "['ai', 'ai', 15, 200, 'data', 'science', [1, 2, 3, 4], 'python', 'python']"
      ]
     },
     "execution_count": 43,
     "metadata": {},
     "output_type": "execute_result"
    }
   ],
   "source": [
    "li"
   ]
  },
  {
   "cell_type": "code",
   "execution_count": 44,
   "id": "8563b806-648e-4426-8fed-d2a0d89b327e",
   "metadata": {},
   "outputs": [
    {
     "data": {
      "text/plain": [
       "7"
      ]
     },
     "execution_count": 44,
     "metadata": {},
     "output_type": "execute_result"
    }
   ],
   "source": [
    "li.index('python')"
   ]
  },
  {
   "cell_type": "code",
   "execution_count": 45,
   "id": "35262ab7-1767-48c5-9ace-cc0c1ebb4fa1",
   "metadata": {},
   "outputs": [],
   "source": [
    "li.insert(5,'data')"
   ]
  },
  {
   "cell_type": "code",
   "execution_count": 46,
   "id": "1dc27bce-7c1b-4ea0-a521-3ac82e805f08",
   "metadata": {},
   "outputs": [
    {
     "data": {
      "text/plain": [
       "['ai',\n",
       " 'ai',\n",
       " 15,\n",
       " 200,\n",
       " 'data',\n",
       " 'data',\n",
       " 'science',\n",
       " [1, 2, 3, 4],\n",
       " 'python',\n",
       " 'python']"
      ]
     },
     "execution_count": 46,
     "metadata": {},
     "output_type": "execute_result"
    }
   ],
   "source": [
    "li"
   ]
  },
  {
   "cell_type": "code",
   "execution_count": 47,
   "id": "7d6b22d8-0ab5-4939-a781-01cb1a59b332",
   "metadata": {},
   "outputs": [],
   "source": [
    "li.insert(5,'datadamn')"
   ]
  },
  {
   "cell_type": "code",
   "execution_count": 48,
   "id": "0eb563a0-c8eb-4ca0-922a-002037aec01b",
   "metadata": {},
   "outputs": [
    {
     "data": {
      "text/plain": [
       "['ai',\n",
       " 'ai',\n",
       " 15,\n",
       " 200,\n",
       " 'data',\n",
       " 'datadamn',\n",
       " 'data',\n",
       " 'science',\n",
       " [1, 2, 3, 4],\n",
       " 'python',\n",
       " 'python']"
      ]
     },
     "execution_count": 48,
     "metadata": {},
     "output_type": "execute_result"
    }
   ],
   "source": [
    "li"
   ]
  },
  {
   "cell_type": "code",
   "execution_count": 49,
   "id": "470ef1f3-58a0-404c-ae64-8eafad97f841",
   "metadata": {},
   "outputs": [],
   "source": [
    "li.remove('data')"
   ]
  },
  {
   "cell_type": "code",
   "execution_count": 50,
   "id": "869b6a82-f38b-4044-9f3f-136faf90fdef",
   "metadata": {},
   "outputs": [
    {
     "data": {
      "text/plain": [
       "['ai',\n",
       " 'ai',\n",
       " 15,\n",
       " 200,\n",
       " 'datadamn',\n",
       " 'data',\n",
       " 'science',\n",
       " [1, 2, 3, 4],\n",
       " 'python',\n",
       " 'python']"
      ]
     },
     "execution_count": 50,
     "metadata": {},
     "output_type": "execute_result"
    }
   ],
   "source": [
    "li"
   ]
  },
  {
   "cell_type": "code",
   "execution_count": 51,
   "id": "e035f8c5-890b-41e5-b5c9-e18a27a9f7d4",
   "metadata": {},
   "outputs": [],
   "source": [
    "li.remove('data')"
   ]
  },
  {
   "cell_type": "code",
   "execution_count": 52,
   "id": "31027ea4-5c86-41a8-8d18-1a97339d60ec",
   "metadata": {},
   "outputs": [
    {
     "data": {
      "text/plain": [
       "['ai', 'ai', 15, 200, 'datadamn', 'science', [1, 2, 3, 4], 'python', 'python']"
      ]
     },
     "execution_count": 52,
     "metadata": {},
     "output_type": "execute_result"
    }
   ],
   "source": [
    "li"
   ]
  },
  {
   "cell_type": "code",
   "execution_count": 54,
   "id": "3e0c6540-1436-402b-b710-d74a4da44206",
   "metadata": {},
   "outputs": [],
   "source": [
    "#drop_duplicate()\n"
   ]
  },
  {
   "cell_type": "code",
   "execution_count": 55,
   "id": "85fc07f3-38bd-4976-b1c4-06494dd24582",
   "metadata": {},
   "outputs": [],
   "source": [
    "li.reverse()"
   ]
  },
  {
   "cell_type": "code",
   "execution_count": 56,
   "id": "ef67a3b5-c216-4541-bf08-043d699f8164",
   "metadata": {},
   "outputs": [
    {
     "data": {
      "text/plain": [
       "['python', 'python', [1, 2, 3, 4], 'science', 'datadamn', 200, 15, 'ai', 'ai']"
      ]
     },
     "execution_count": 56,
     "metadata": {},
     "output_type": "execute_result"
    }
   ],
   "source": [
    "li"
   ]
  },
  {
   "cell_type": "code",
   "execution_count": 57,
   "id": "17e4530b-86cb-4053-9ffb-f66ba97b38dd",
   "metadata": {},
   "outputs": [],
   "source": [
    "I2=[200,2,3,4,5,3,48,9]"
   ]
  },
  {
   "cell_type": "code",
   "execution_count": 58,
   "id": "26ade832-987d-450e-9f44-8dd38f5e780a",
   "metadata": {},
   "outputs": [],
   "source": [
    "I2.sort()"
   ]
  },
  {
   "cell_type": "code",
   "execution_count": 59,
   "id": "3a427393-8f8c-459a-9fba-ffaf724b3ac0",
   "metadata": {},
   "outputs": [
    {
     "data": {
      "text/plain": [
       "[2, 3, 3, 4, 5, 9, 48, 200]"
      ]
     },
     "execution_count": 59,
     "metadata": {},
     "output_type": "execute_result"
    }
   ],
   "source": [
    "I2"
   ]
  },
  {
   "cell_type": "code",
   "execution_count": 60,
   "id": "54f82cdf-712b-4cbb-ad76-ee42c48b210c",
   "metadata": {},
   "outputs": [
    {
     "data": {
      "text/plain": [
       "3"
      ]
     },
     "execution_count": 60,
     "metadata": {},
     "output_type": "execute_result"
    }
   ],
   "source": [
    "I2.pop(2)"
   ]
  },
  {
   "cell_type": "code",
   "execution_count": 61,
   "id": "6b51c065-0b71-4f5d-b8b2-da9b5e6effd9",
   "metadata": {},
   "outputs": [
    {
     "data": {
      "text/plain": [
       "[2, 3, 4, 5, 9, 48, 200]"
      ]
     },
     "execution_count": 61,
     "metadata": {},
     "output_type": "execute_result"
    }
   ],
   "source": [
    "I2"
   ]
  },
  {
   "cell_type": "code",
   "execution_count": 62,
   "id": "8b9a5370-ebfc-4276-b692-9d8551619d78",
   "metadata": {},
   "outputs": [],
   "source": [
    "del I2[0]"
   ]
  },
  {
   "cell_type": "code",
   "execution_count": 63,
   "id": "ec1d2d23-94bb-4490-9640-0a8452b0d66d",
   "metadata": {},
   "outputs": [
    {
     "data": {
      "text/plain": [
       "[3, 4, 5, 9, 48, 200]"
      ]
     },
     "execution_count": 63,
     "metadata": {},
     "output_type": "execute_result"
    }
   ],
   "source": [
    "I2"
   ]
  },
  {
   "cell_type": "code",
   "execution_count": 64,
   "id": "090ad13f-5d6b-48cc-9fce-e5e78c98a6e6",
   "metadata": {},
   "outputs": [
    {
     "data": {
      "text/plain": [
       "['python', 'python', [1, 2, 3, 4], 'science', 'datadamn', 200, 15, 'ai', 'ai']"
      ]
     },
     "execution_count": 64,
     "metadata": {},
     "output_type": "execute_result"
    }
   ],
   "source": [
    "li"
   ]
  },
  {
   "cell_type": "code",
   "execution_count": 65,
   "id": "83a98dfb-0b00-45f1-9bc5-d62287ac83f9",
   "metadata": {},
   "outputs": [],
   "source": [
    "del li[2][3]"
   ]
  },
  {
   "cell_type": "code",
   "execution_count": 66,
   "id": "106a76d4-1d62-4b8e-ab56-f7f2bf61a94f",
   "metadata": {},
   "outputs": [
    {
     "data": {
      "text/plain": [
       "['python', 'python', [1, 2, 3], 'science', 'datadamn', 200, 15, 'ai', 'ai']"
      ]
     },
     "execution_count": 66,
     "metadata": {},
     "output_type": "execute_result"
    }
   ],
   "source": [
    "li"
   ]
  },
  {
   "cell_type": "code",
   "execution_count": 67,
   "id": "b5655fac-060b-42e8-8937-e56f0962e662",
   "metadata": {},
   "outputs": [],
   "source": [
    "li=[21,21,34,4,5456,8,9,435,67,890,120]"
   ]
  },
  {
   "cell_type": "code",
   "execution_count": 71,
   "id": "c30cc9ab-d391-405f-bb9b-e5c461457338",
   "metadata": {},
   "outputs": [
    {
     "data": {
      "text/plain": [
       "[34, 4, 5456, 8, 890, 120]"
      ]
     },
     "execution_count": 71,
     "metadata": {},
     "output_type": "execute_result"
    }
   ],
   "source": [
    "[i for i in li if (i%2==0)] #list comprehension"
   ]
  },
  {
   "cell_type": "code",
   "execution_count": 72,
   "id": "ab350e59-8e6f-4d99-8c20-dc4368659aaf",
   "metadata": {},
   "outputs": [
    {
     "data": {
      "text/plain": [
       "[21, 21, 34, 4, 5456, 8, 9, 435, 67, 890, 120]"
      ]
     },
     "execution_count": 72,
     "metadata": {},
     "output_type": "execute_result"
    }
   ],
   "source": [
    "li"
   ]
  },
  {
   "cell_type": "code",
   "execution_count": 74,
   "id": "a2d8a6a4-149e-4f78-87c3-3abdf8040976",
   "metadata": {},
   "outputs": [
    {
     "data": {
      "text/plain": [
       "[21, 21, 9, 435, 67]"
      ]
     },
     "execution_count": 74,
     "metadata": {},
     "output_type": "execute_result"
    }
   ],
   "source": [
    "[i for i in li if(i%2==1)]"
   ]
  },
  {
   "cell_type": "markdown",
   "id": "5c11e476-c2b8-4e73-9b74-122088f366f9",
   "metadata": {},
   "source": [
    "Tuple\n",
    "#Ordered\n",
    "#Unchangaeable\n",
    "#allow dupplicates"
   ]
  },
  {
   "cell_type": "code",
   "execution_count": 75,
   "id": "17619420-1cea-41d4-bdba-cb397f5384fe",
   "metadata": {},
   "outputs": [],
   "source": [
    "tup=(1,20,10,4,6)"
   ]
  },
  {
   "cell_type": "code",
   "execution_count": 76,
   "id": "b1f67876-8d64-4bc1-8413-dc4b88139b71",
   "metadata": {},
   "outputs": [
    {
     "data": {
      "text/plain": [
       "(1, 20, 10, 4, 6)"
      ]
     },
     "execution_count": 76,
     "metadata": {},
     "output_type": "execute_result"
    }
   ],
   "source": [
    "tup"
   ]
  },
  {
   "cell_type": "code",
   "execution_count": 77,
   "id": "7abf7582-d685-4e41-8da4-3f060f8cb684",
   "metadata": {},
   "outputs": [
    {
     "data": {
      "text/plain": [
       "1"
      ]
     },
     "execution_count": 77,
     "metadata": {},
     "output_type": "execute_result"
    }
   ],
   "source": [
    "tup[0]"
   ]
  },
  {
   "cell_type": "code",
   "execution_count": 78,
   "id": "f8cd26da-e4f3-4b09-98b7-e2399f5deba6",
   "metadata": {},
   "outputs": [
    {
     "data": {
      "text/plain": [
       "6"
      ]
     },
     "execution_count": 78,
     "metadata": {},
     "output_type": "execute_result"
    }
   ],
   "source": [
    "tup[-1]"
   ]
  },
  {
   "cell_type": "code",
   "execution_count": 79,
   "id": "0febd52b-a64e-4413-9430-bf03ce54941d",
   "metadata": {},
   "outputs": [
    {
     "ename": "TypeError",
     "evalue": "'tuple' object does not support item assignment",
     "output_type": "error",
     "traceback": [
      "\u001b[1;31m---------------------------------------------------------------------------\u001b[0m",
      "\u001b[1;31mTypeError\u001b[0m                                 Traceback (most recent call last)",
      "Cell \u001b[1;32mIn[79], line 1\u001b[0m\n\u001b[1;32m----> 1\u001b[0m tup[\u001b[38;5;241m0\u001b[39m]\u001b[38;5;241m=\u001b[39m\u001b[38;5;241m500\u001b[39m\n",
      "\u001b[1;31mTypeError\u001b[0m: 'tuple' object does not support item assignment"
     ]
    }
   ],
   "source": [
    "tup[0]=500"
   ]
  },
  {
   "cell_type": "code",
   "execution_count": 80,
   "id": "5758f946-9472-4660-bacf-8e461d69c9fe",
   "metadata": {},
   "outputs": [],
   "source": [
    "lt=list(tup)"
   ]
  },
  {
   "cell_type": "code",
   "execution_count": 81,
   "id": "df9bdb84-5f0b-4bab-85e4-ec22daf792e2",
   "metadata": {},
   "outputs": [
    {
     "data": {
      "text/plain": [
       "[1, 20, 10, 4, 6]"
      ]
     },
     "execution_count": 81,
     "metadata": {},
     "output_type": "execute_result"
    }
   ],
   "source": [
    "lt"
   ]
  },
  {
   "cell_type": "code",
   "execution_count": 82,
   "id": "4a8ef020-b145-48d7-a502-09c52b49a001",
   "metadata": {},
   "outputs": [],
   "source": [
    "lt[0]=500"
   ]
  },
  {
   "cell_type": "code",
   "execution_count": 83,
   "id": "78c2f80a-a901-4655-a80c-3d26e8a16751",
   "metadata": {},
   "outputs": [
    {
     "data": {
      "text/plain": [
       "[500, 20, 10, 4, 6]"
      ]
     },
     "execution_count": 83,
     "metadata": {},
     "output_type": "execute_result"
    }
   ],
   "source": [
    "lt"
   ]
  },
  {
   "cell_type": "code",
   "execution_count": 84,
   "id": "0e00d9a3-01e1-49a2-be1d-1b2e21563753",
   "metadata": {},
   "outputs": [],
   "source": [
    "tup=tuple(lt)"
   ]
  },
  {
   "cell_type": "code",
   "execution_count": 85,
   "id": "602a49e2-7c38-429f-a54a-991d04756adf",
   "metadata": {},
   "outputs": [
    {
     "data": {
      "text/plain": [
       "(500, 20, 10, 4, 6)"
      ]
     },
     "execution_count": 85,
     "metadata": {},
     "output_type": "execute_result"
    }
   ],
   "source": [
    "tup"
   ]
  },
  {
   "cell_type": "code",
   "execution_count": 86,
   "id": "99a3dbf6-c5f3-4cc9-a75a-fe0f8846b404",
   "metadata": {},
   "outputs": [
    {
     "data": {
      "text/plain": [
       "1"
      ]
     },
     "execution_count": 86,
     "metadata": {},
     "output_type": "execute_result"
    }
   ],
   "source": [
    "tup.count(10)"
   ]
  },
  {
   "cell_type": "code",
   "execution_count": 87,
   "id": "d5c1d6e1-eb09-4df4-a1b5-4be44c835de5",
   "metadata": {},
   "outputs": [
    {
     "data": {
      "text/plain": [
       "3"
      ]
     },
     "execution_count": 87,
     "metadata": {},
     "output_type": "execute_result"
    }
   ],
   "source": [
    "tup.index(4)"
   ]
  },
  {
   "cell_type": "markdown",
   "id": "91d4a559-e96b-4c71-a5a5-5d33faa23e09",
   "metadata": {},
   "source": [
    "SET\n",
    "#Unordered\n",
    "#Changaeable\n",
    "#does not allow dupplicates"
   ]
  },
  {
   "cell_type": "markdown",
   "id": "923f544c-c8d0-4b67-b91e-69c8ed1c0825",
   "metadata": {},
   "source": [
    "Set{}"
   ]
  },
  {
   "cell_type": "code",
   "execution_count": 88,
   "id": "eb5c57c0-8b06-4607-9c67-fdab5d66e191",
   "metadata": {},
   "outputs": [
    {
     "data": {
      "text/plain": [
       "{4, 8, 9, 21, 34, 67, 120, 435, 890, 5456}"
      ]
     },
     "execution_count": 88,
     "metadata": {},
     "output_type": "execute_result"
    }
   ],
   "source": [
    "set(li)"
   ]
  },
  {
   "cell_type": "code",
   "execution_count": 90,
   "id": "33c0a51c-0c8f-4168-9184-8e78b0fb4024",
   "metadata": {},
   "outputs": [],
   "source": [
    "s={15,58,856,845,156,8456,564,'data','science',12}"
   ]
  },
  {
   "cell_type": "code",
   "execution_count": 91,
   "id": "f2ee0d30-e277-4020-b6f0-8d0d6e65f850",
   "metadata": {},
   "outputs": [
    {
     "data": {
      "text/plain": [
       "{12, 15, 156, 564, 58, 845, 8456, 856, 'data', 'science'}"
      ]
     },
     "execution_count": 91,
     "metadata": {},
     "output_type": "execute_result"
    }
   ],
   "source": [
    "s"
   ]
  },
  {
   "cell_type": "code",
   "execution_count": 92,
   "id": "84aab735-24d0-4cf2-a5ff-7f471fc2358b",
   "metadata": {},
   "outputs": [
    {
     "data": {
      "text/plain": [
       "False"
      ]
     },
     "execution_count": 92,
     "metadata": {},
     "output_type": "execute_result"
    }
   ],
   "source": [
    "1 in s"
   ]
  },
  {
   "cell_type": "code",
   "execution_count": 93,
   "id": "bd8af91d-b507-423b-b0cc-3c7a9aa20b2d",
   "metadata": {},
   "outputs": [
    {
     "data": {
      "text/plain": [
       "True"
      ]
     },
     "execution_count": 93,
     "metadata": {},
     "output_type": "execute_result"
    }
   ],
   "source": [
    "12 in s"
   ]
  },
  {
   "cell_type": "code",
   "execution_count": 94,
   "id": "a2d0b403-348b-4e5a-9fb2-e3039155f2f2",
   "metadata": {},
   "outputs": [],
   "source": [
    "s.remove('data')"
   ]
  },
  {
   "cell_type": "code",
   "execution_count": 96,
   "id": "8c80db0c-fb47-426f-9c83-146fefea364c",
   "metadata": {},
   "outputs": [
    {
     "data": {
      "text/plain": [
       "{12, 15, 156, 564, 58, 845, 8456, 856, 'science'}"
      ]
     },
     "execution_count": 96,
     "metadata": {},
     "output_type": "execute_result"
    }
   ],
   "source": [
    "s"
   ]
  },
  {
   "cell_type": "code",
   "execution_count": 97,
   "id": "14bda52a-6833-4859-a4fa-a462d30b8e6a",
   "metadata": {},
   "outputs": [],
   "source": [
    "s.add('python')"
   ]
  },
  {
   "cell_type": "code",
   "execution_count": 98,
   "id": "b5665a24-bc25-4527-98ea-54d9206f6124",
   "metadata": {},
   "outputs": [
    {
     "data": {
      "text/plain": [
       "{12, 15, 156, 564, 58, 845, 8456, 856, 'python', 'science'}"
      ]
     },
     "execution_count": 98,
     "metadata": {},
     "output_type": "execute_result"
    }
   ],
   "source": [
    "s"
   ]
  },
  {
   "cell_type": "code",
   "execution_count": 99,
   "id": "5b37ef85-fd49-492f-9051-7b5064300621",
   "metadata": {},
   "outputs": [],
   "source": [
    "s.remove(12)"
   ]
  },
  {
   "cell_type": "code",
   "execution_count": 100,
   "id": "2b333816-9713-407a-a835-12b91242a6d9",
   "metadata": {},
   "outputs": [
    {
     "data": {
      "text/plain": [
       "{15, 156, 564, 58, 845, 8456, 856, 'python', 'science'}"
      ]
     },
     "execution_count": 100,
     "metadata": {},
     "output_type": "execute_result"
    }
   ],
   "source": [
    "s"
   ]
  },
  {
   "cell_type": "code",
   "execution_count": 101,
   "id": "912c187d-6dc3-4903-b0a5-ee53e3f6afea",
   "metadata": {},
   "outputs": [
    {
     "ename": "KeyError",
     "evalue": "12",
     "output_type": "error",
     "traceback": [
      "\u001b[1;31m---------------------------------------------------------------------------\u001b[0m",
      "\u001b[1;31mKeyError\u001b[0m                                  Traceback (most recent call last)",
      "Cell \u001b[1;32mIn[101], line 1\u001b[0m\n\u001b[1;32m----> 1\u001b[0m s\u001b[38;5;241m.\u001b[39mremove(\u001b[38;5;241m12\u001b[39m)\n",
      "\u001b[1;31mKeyError\u001b[0m: 12"
     ]
    }
   ],
   "source": [
    "s.remove(12)"
   ]
  },
  {
   "cell_type": "code",
   "execution_count": 102,
   "id": "41016dd5-0c02-43f3-b7a9-bd9f4a6c9af5",
   "metadata": {},
   "outputs": [],
   "source": [
    "s.discard(15)"
   ]
  },
  {
   "cell_type": "code",
   "execution_count": 103,
   "id": "797848c2-10fa-4989-9873-591236a4c823",
   "metadata": {},
   "outputs": [],
   "source": [
    "s.discard(15)"
   ]
  },
  {
   "cell_type": "code",
   "execution_count": 104,
   "id": "4e99b033-b60b-4e83-bde5-c8186e492369",
   "metadata": {},
   "outputs": [
    {
     "data": {
      "text/plain": [
       "{156, 564, 58, 845, 8456, 856, 'python', 'science'}"
      ]
     },
     "execution_count": 104,
     "metadata": {},
     "output_type": "execute_result"
    }
   ],
   "source": [
    "s"
   ]
  },
  {
   "cell_type": "code",
   "execution_count": 105,
   "id": "4ff44530-311c-423c-9004-99014e340312",
   "metadata": {},
   "outputs": [],
   "source": [
    "s2={564,856,123,567,1231,'python'}"
   ]
  },
  {
   "cell_type": "code",
   "execution_count": 106,
   "id": "33601cb3-9b14-45f6-882a-0d7b5df976f0",
   "metadata": {},
   "outputs": [
    {
     "data": {
      "text/plain": [
       "{564, 856, 'python'}"
      ]
     },
     "execution_count": 106,
     "metadata": {},
     "output_type": "execute_result"
    }
   ],
   "source": [
    "s.intersection(s2)"
   ]
  },
  {
   "cell_type": "code",
   "execution_count": 107,
   "id": "dcc576b1-ce13-4218-8851-40a9aebb295b",
   "metadata": {},
   "outputs": [
    {
     "data": {
      "text/plain": [
       "{123, 1231, 156, 564, 567, 58, 845, 8456, 856, 'python', 'science'}"
      ]
     },
     "execution_count": 107,
     "metadata": {},
     "output_type": "execute_result"
    }
   ],
   "source": [
    "s.union(s2)"
   ]
  },
  {
   "cell_type": "code",
   "execution_count": 108,
   "id": "b6e94a7c-8040-4406-8268-df0af4c55a26",
   "metadata": {},
   "outputs": [
    {
     "data": {
      "text/plain": [
       "{123, 1231, 156, 564, 567, 58, 845, 8456, 856, 'python', 'science'}"
      ]
     },
     "execution_count": 108,
     "metadata": {},
     "output_type": "execute_result"
    }
   ],
   "source": [
    "s | s2 #intersection"
   ]
  },
  {
   "cell_type": "code",
   "execution_count": 109,
   "id": "4fae9860-c1e8-4b4c-a2a4-9a290656f99a",
   "metadata": {},
   "outputs": [
    {
     "data": {
      "text/plain": [
       "{564, 856, 'python'}"
      ]
     },
     "execution_count": 109,
     "metadata": {},
     "output_type": "execute_result"
    }
   ],
   "source": [
    "s & s2 #union"
   ]
  },
  {
   "cell_type": "code",
   "execution_count": 110,
   "id": "55cfdc38-c3e0-48e9-aef1-bcbe34d015df",
   "metadata": {},
   "outputs": [],
   "source": [
    "x=s.copy()"
   ]
  },
  {
   "cell_type": "code",
   "execution_count": 112,
   "id": "00255b79-66ab-492b-98ee-c090fcec039b",
   "metadata": {},
   "outputs": [],
   "source": [
    "s.clear()"
   ]
  },
  {
   "cell_type": "code",
   "execution_count": 113,
   "id": "1079c8c3-26f3-4e83-b40e-7ad927cba34c",
   "metadata": {},
   "outputs": [
    {
     "data": {
      "text/plain": [
       "set()"
      ]
     },
     "execution_count": 113,
     "metadata": {},
     "output_type": "execute_result"
    }
   ],
   "source": [
    "s"
   ]
  },
  {
   "cell_type": "code",
   "execution_count": 114,
   "id": "4480c76e-3e32-47e2-8298-f1e56bc69bc2",
   "metadata": {},
   "outputs": [
    {
     "data": {
      "text/plain": [
       "{156, 564, 58, 845, 8456, 856, 'python', 'science'}"
      ]
     },
     "execution_count": 114,
     "metadata": {},
     "output_type": "execute_result"
    }
   ],
   "source": [
    "x"
   ]
  },
  {
   "cell_type": "code",
   "execution_count": 115,
   "id": "02c28661-db64-4e87-ac5b-1222644598a5",
   "metadata": {},
   "outputs": [],
   "source": [
    "x=list(x)"
   ]
  },
  {
   "cell_type": "code",
   "execution_count": 116,
   "id": "e68445bc-285d-47cf-94d1-7574abe4a73c",
   "metadata": {},
   "outputs": [
    {
     "data": {
      "text/plain": [
       "[8456, 845, 'science', 856, 564, 'python', 58, 156]"
      ]
     },
     "execution_count": 116,
     "metadata": {},
     "output_type": "execute_result"
    }
   ],
   "source": [
    "x"
   ]
  },
  {
   "cell_type": "code",
   "execution_count": 117,
   "id": "b5de427f-e06d-49ab-94f9-24c189216010",
   "metadata": {},
   "outputs": [],
   "source": [
    "y=x"
   ]
  },
  {
   "cell_type": "code",
   "execution_count": 118,
   "id": "7ee88329-9997-44d3-aa42-599ebaad4ba3",
   "metadata": {},
   "outputs": [],
   "source": [
    "x[0]=100"
   ]
  },
  {
   "cell_type": "code",
   "execution_count": 119,
   "id": "5802d05f-7e55-4f3b-9bea-61c4792ea3a5",
   "metadata": {},
   "outputs": [
    {
     "data": {
      "text/plain": [
       "[100, 845, 'science', 856, 564, 'python', 58, 156]"
      ]
     },
     "execution_count": 119,
     "metadata": {},
     "output_type": "execute_result"
    }
   ],
   "source": [
    "x"
   ]
  },
  {
   "cell_type": "code",
   "execution_count": 120,
   "id": "dc6f4dbe-af2f-4a4f-abe6-5e69794045c3",
   "metadata": {},
   "outputs": [
    {
     "data": {
      "text/plain": [
       "[100, 845, 'science', 856, 564, 'python', 58, 156]"
      ]
     },
     "execution_count": 120,
     "metadata": {},
     "output_type": "execute_result"
    }
   ],
   "source": [
    "y"
   ]
  },
  {
   "cell_type": "code",
   "execution_count": 121,
   "id": "28cca25f-3913-4d9d-9273-05df49242233",
   "metadata": {},
   "outputs": [
    {
     "data": {
      "text/plain": [
       "<function list.clear()>"
      ]
     },
     "execution_count": 121,
     "metadata": {},
     "output_type": "execute_result"
    }
   ],
   "source": [
    "x.clear"
   ]
  },
  {
   "cell_type": "code",
   "execution_count": 122,
   "id": "20276435-6595-43bd-9946-7ed4f893a34b",
   "metadata": {},
   "outputs": [],
   "source": [
    "x.clear()"
   ]
  },
  {
   "cell_type": "code",
   "execution_count": 123,
   "id": "4b7d8596-1b6e-4124-936a-a4a64bfac496",
   "metadata": {},
   "outputs": [
    {
     "data": {
      "text/plain": [
       "[]"
      ]
     },
     "execution_count": 123,
     "metadata": {},
     "output_type": "execute_result"
    }
   ],
   "source": [
    "x"
   ]
  },
  {
   "cell_type": "code",
   "execution_count": 124,
   "id": "b6a0d472-3d32-4584-8004-ba5160e9625b",
   "metadata": {},
   "outputs": [
    {
     "data": {
      "text/plain": [
       "[]"
      ]
     },
     "execution_count": 124,
     "metadata": {},
     "output_type": "execute_result"
    }
   ],
   "source": [
    "y"
   ]
  },
  {
   "cell_type": "markdown",
   "id": "f11efb5a-ab03-4bd4-8f58-0081ce505025",
   "metadata": {},
   "source": [
    "Array\n",
    "#Ordered\n",
    "#Allow Duplicates Value\n",
    "#Changeable"
   ]
  },
  {
   "cell_type": "code",
   "execution_count": 126,
   "id": "800e9a52-61d6-448a-b293-c6ff481c3770",
   "metadata": {},
   "outputs": [],
   "source": [
    "import array as ar"
   ]
  },
  {
   "cell_type": "code",
   "execution_count": 128,
   "id": "b5d377eb-9106-49a0-a72c-14e42af144b6",
   "metadata": {},
   "outputs": [],
   "source": [
    "x=ar.array('i',[1,2,3,4])"
   ]
  },
  {
   "cell_type": "code",
   "execution_count": 129,
   "id": "18f39031-ff06-43cd-be3c-475069516951",
   "metadata": {},
   "outputs": [
    {
     "data": {
      "text/plain": [
       "array('i', [1, 2, 3, 4])"
      ]
     },
     "execution_count": 129,
     "metadata": {},
     "output_type": "execute_result"
    }
   ],
   "source": [
    "x"
   ]
  },
  {
   "cell_type": "code",
   "execution_count": 131,
   "id": "b78251c6-a2d4-4d1d-b158-fdb0ce2e215b",
   "metadata": {},
   "outputs": [],
   "source": [
    "x=ar.array('f',[1,2,3.5,4])"
   ]
  },
  {
   "cell_type": "code",
   "execution_count": 132,
   "id": "54d74122-fa3a-4772-b7ff-b6e5f4f48f95",
   "metadata": {},
   "outputs": [
    {
     "data": {
      "text/plain": [
       "array('f', [1.0, 2.0, 3.5, 4.0])"
      ]
     },
     "execution_count": 132,
     "metadata": {},
     "output_type": "execute_result"
    }
   ],
   "source": [
    "x"
   ]
  },
  {
   "cell_type": "code",
   "execution_count": 133,
   "id": "d2527e58-dedd-40be-8a9b-7bd4990de936",
   "metadata": {},
   "outputs": [],
   "source": [
    "x.insert(2,3) #2 is index and 3 is value"
   ]
  },
  {
   "cell_type": "code",
   "execution_count": 134,
   "id": "d3c8c23f-7c29-4fbb-a2f9-bf4d3b32a16a",
   "metadata": {},
   "outputs": [
    {
     "data": {
      "text/plain": [
       "array('f', [1.0, 2.0, 3.0, 3.5, 4.0])"
      ]
     },
     "execution_count": 134,
     "metadata": {},
     "output_type": "execute_result"
    }
   ],
   "source": [
    "x"
   ]
  },
  {
   "cell_type": "code",
   "execution_count": 136,
   "id": "343da058-6473-42b9-84c8-a2b2ffebb62d",
   "metadata": {},
   "outputs": [],
   "source": [
    "x.append(2)"
   ]
  },
  {
   "cell_type": "code",
   "execution_count": 137,
   "id": "04785237-d298-4e24-99fb-8997902a857d",
   "metadata": {},
   "outputs": [
    {
     "ename": "TypeError",
     "evalue": "must be real number, not str",
     "output_type": "error",
     "traceback": [
      "\u001b[1;31m---------------------------------------------------------------------------\u001b[0m",
      "\u001b[1;31mTypeError\u001b[0m                                 Traceback (most recent call last)",
      "Cell \u001b[1;32mIn[137], line 1\u001b[0m\n\u001b[1;32m----> 1\u001b[0m x\u001b[38;5;241m.\u001b[39mappend(\u001b[38;5;124m'\u001b[39m\u001b[38;5;124mdata\u001b[39m\u001b[38;5;124m'\u001b[39m)\n",
      "\u001b[1;31mTypeError\u001b[0m: must be real number, not str"
     ]
    }
   ],
   "source": [
    "x.append('data')"
   ]
  },
  {
   "cell_type": "code",
   "execution_count": 138,
   "id": "38b8caa7-2b30-4f66-9097-6cfc39a591ca",
   "metadata": {},
   "outputs": [
    {
     "data": {
      "text/plain": [
       "array('f', [1.0, 2.0, 3.0, 3.5, 4.0, 2.0])"
      ]
     },
     "execution_count": 138,
     "metadata": {},
     "output_type": "execute_result"
    }
   ],
   "source": [
    "x"
   ]
  },
  {
   "cell_type": "markdown",
   "id": "521ba52b-bc6f-4ca7-8fe8-3252bbd3c9fb",
   "metadata": {},
   "source": [
    "Dictionary\n",
    "#Ordered\n",
    "#Changeable\n",
    "#Does Not Allow Duplicates"
   ]
  },
  {
   "cell_type": "code",
   "execution_count": 139,
   "id": "2369c5f9-ec96-4bc9-b6b0-4b20f41afa0a",
   "metadata": {},
   "outputs": [],
   "source": [
    "dic={\n",
    "    'name':'sakil',\n",
    "    'varsity':'IIUM',\n",
    "    'dept':'CSE'\n",
    "}"
   ]
  },
  {
   "cell_type": "code",
   "execution_count": 140,
   "id": "5b5e3ba2-1227-4b7c-8342-0283bddeaaa5",
   "metadata": {},
   "outputs": [
    {
     "data": {
      "text/plain": [
       "{'name': 'sakil', 'varsity': 'IIUM', 'dept': 'CSE'}"
      ]
     },
     "execution_count": 140,
     "metadata": {},
     "output_type": "execute_result"
    }
   ],
   "source": [
    "dic"
   ]
  },
  {
   "cell_type": "code",
   "execution_count": 141,
   "id": "ebe9bfb7-7ca3-461b-add7-648a0bdfe70f",
   "metadata": {},
   "outputs": [
    {
     "data": {
      "text/plain": [
       "'CSE'"
      ]
     },
     "execution_count": 141,
     "metadata": {},
     "output_type": "execute_result"
    }
   ],
   "source": [
    "dic ['dept']"
   ]
  },
  {
   "cell_type": "code",
   "execution_count": 142,
   "id": "b4420eb4-ce2e-4c4b-9769-41ad6007c257",
   "metadata": {},
   "outputs": [
    {
     "data": {
      "text/plain": [
       "dict_keys(['name', 'varsity', 'dept'])"
      ]
     },
     "execution_count": 142,
     "metadata": {},
     "output_type": "execute_result"
    }
   ],
   "source": [
    "dic.keys()"
   ]
  },
  {
   "cell_type": "code",
   "execution_count": 143,
   "id": "341ca6a5-f46c-4d6a-acfb-b6f75ba528e3",
   "metadata": {},
   "outputs": [
    {
     "data": {
      "text/plain": [
       "dict_values(['sakil', 'IIUM', 'CSE'])"
      ]
     },
     "execution_count": 143,
     "metadata": {},
     "output_type": "execute_result"
    }
   ],
   "source": [
    "dic.values()"
   ]
  },
  {
   "cell_type": "code",
   "execution_count": 144,
   "id": "462fd2c3-d94b-4757-b8da-d3963c824e06",
   "metadata": {},
   "outputs": [],
   "source": [
    "dic['name']='Nayem'"
   ]
  },
  {
   "cell_type": "code",
   "execution_count": 145,
   "id": "e336e2da-7b7e-4eca-a2d6-8c9ea7170b20",
   "metadata": {},
   "outputs": [
    {
     "data": {
      "text/plain": [
       "{'name': 'Nayem', 'varsity': 'IIUM', 'dept': 'CSE'}"
      ]
     },
     "execution_count": 145,
     "metadata": {},
     "output_type": "execute_result"
    }
   ],
   "source": [
    "dic"
   ]
  },
  {
   "cell_type": "code",
   "execution_count": 147,
   "id": "cb7fcda9-5ddd-46d7-ab6c-a0dc7c396b2b",
   "metadata": {},
   "outputs": [
    {
     "name": "stdin",
     "output_type": "stream",
     "text": [
      " 3\n",
      " name\n",
      " Nayem\n",
      " varsity\n",
      " IIUM\n",
      " dept\n",
      " CSE\n"
     ]
    },
    {
     "name": "stdout",
     "output_type": "stream",
     "text": [
      "{'name': 'Nayem', 'varsity': 'IIUM', 'dept': 'CSE'}\n"
     ]
    }
   ],
   "source": [
    "n=int(input())\n",
    "di={}\n",
    "for i in range(n):\n",
    "    keys=input()\n",
    "    values=input()\n",
    "    di[keys]=values\n",
    "print(di)"
   ]
  },
  {
   "cell_type": "markdown",
   "id": "4fc55453-003c-4ed5-bc75-2589075db7ea",
   "metadata": {},
   "source": [
    "DATAFRAME"
   ]
  },
  {
   "cell_type": "code",
   "execution_count": 148,
   "id": "6f9d1ad2-a75f-41d1-a5cf-8c4f84549801",
   "metadata": {},
   "outputs": [
    {
     "name": "stdout",
     "output_type": "stream",
     "text": [
      "Requirement already satisfied: pandas in c:\\users\\nayem\\anaconda3\\lib\\site-packages (2.2.2)\n",
      "Requirement already satisfied: numpy>=1.26.0 in c:\\users\\nayem\\anaconda3\\lib\\site-packages (from pandas) (1.26.4)\n",
      "Requirement already satisfied: python-dateutil>=2.8.2 in c:\\users\\nayem\\anaconda3\\lib\\site-packages (from pandas) (2.9.0.post0)\n",
      "Requirement already satisfied: pytz>=2020.1 in c:\\users\\nayem\\anaconda3\\lib\\site-packages (from pandas) (2024.1)\n",
      "Requirement already satisfied: tzdata>=2022.7 in c:\\users\\nayem\\anaconda3\\lib\\site-packages (from pandas) (2023.3)\n",
      "Requirement already satisfied: six>=1.5 in c:\\users\\nayem\\anaconda3\\lib\\site-packages (from python-dateutil>=2.8.2->pandas) (1.16.0)\n"
     ]
    }
   ],
   "source": [
    "!pip install pandas"
   ]
  },
  {
   "cell_type": "code",
   "execution_count": 149,
   "id": "f23da70f-99ba-43b6-8dc5-5e02012d9949",
   "metadata": {},
   "outputs": [],
   "source": [
    "import pandas as pd"
   ]
  },
  {
   "cell_type": "code",
   "execution_count": 155,
   "id": "0d6b25bf-a80e-4536-8060-ed03f7adc8cc",
   "metadata": {},
   "outputs": [],
   "source": [
    "dic={\n",
    "    'name':['sakil','Nayem','Alisha'],\n",
    "    'age':[27,28,30]\n",
    "}"
   ]
  },
  {
   "cell_type": "code",
   "execution_count": 156,
   "id": "1e4d3cb2-e74a-4eed-8123-c3f5301b7b23",
   "metadata": {},
   "outputs": [
    {
     "data": {
      "text/plain": [
       "{'name': ['sakil', 'Nayem', 'Alisha'], 'age': [27, 28, 30]}"
      ]
     },
     "execution_count": 156,
     "metadata": {},
     "output_type": "execute_result"
    }
   ],
   "source": [
    "dic"
   ]
  },
  {
   "cell_type": "code",
   "execution_count": 157,
   "id": "0341e3a4-71a0-494f-9b19-716da12ddbfa",
   "metadata": {},
   "outputs": [],
   "source": [
    "df=pd.DataFrame(dic)"
   ]
  },
  {
   "cell_type": "code",
   "execution_count": 158,
   "id": "7b9e636c-3c23-42b1-a540-1167232b3412",
   "metadata": {},
   "outputs": [
    {
     "data": {
      "text/html": [
       "<div>\n",
       "<style scoped>\n",
       "    .dataframe tbody tr th:only-of-type {\n",
       "        vertical-align: middle;\n",
       "    }\n",
       "\n",
       "    .dataframe tbody tr th {\n",
       "        vertical-align: top;\n",
       "    }\n",
       "\n",
       "    .dataframe thead th {\n",
       "        text-align: right;\n",
       "    }\n",
       "</style>\n",
       "<table border=\"1\" class=\"dataframe\">\n",
       "  <thead>\n",
       "    <tr style=\"text-align: right;\">\n",
       "      <th></th>\n",
       "      <th>name</th>\n",
       "      <th>age</th>\n",
       "    </tr>\n",
       "  </thead>\n",
       "  <tbody>\n",
       "    <tr>\n",
       "      <th>0</th>\n",
       "      <td>sakil</td>\n",
       "      <td>27</td>\n",
       "    </tr>\n",
       "    <tr>\n",
       "      <th>1</th>\n",
       "      <td>Nayem</td>\n",
       "      <td>28</td>\n",
       "    </tr>\n",
       "    <tr>\n",
       "      <th>2</th>\n",
       "      <td>Alisha</td>\n",
       "      <td>30</td>\n",
       "    </tr>\n",
       "  </tbody>\n",
       "</table>\n",
       "</div>"
      ],
      "text/plain": [
       "     name  age\n",
       "0   sakil   27\n",
       "1   Nayem   28\n",
       "2  Alisha   30"
      ]
     },
     "execution_count": 158,
     "metadata": {},
     "output_type": "execute_result"
    }
   ],
   "source": [
    "df"
   ]
  },
  {
   "cell_type": "code",
   "execution_count": 160,
   "id": "0a601c57-fcec-4080-9486-29226ab2c533",
   "metadata": {},
   "outputs": [
    {
     "data": {
      "text/plain": [
       "(3, 2)"
      ]
     },
     "execution_count": 160,
     "metadata": {},
     "output_type": "execute_result"
    }
   ],
   "source": [
    "df.shape  # (Row ,Column)"
   ]
  },
  {
   "cell_type": "code",
   "execution_count": 161,
   "id": "81b830d2-c2c7-4140-96c8-527437ae1d84",
   "metadata": {},
   "outputs": [],
   "source": [
    "row,col=df.shape"
   ]
  },
  {
   "cell_type": "code",
   "execution_count": 162,
   "id": "de88b747-771c-4b50-8850-92892358ecbc",
   "metadata": {},
   "outputs": [
    {
     "data": {
      "text/plain": [
       "3"
      ]
     },
     "execution_count": 162,
     "metadata": {},
     "output_type": "execute_result"
    }
   ],
   "source": [
    "row"
   ]
  },
  {
   "cell_type": "code",
   "execution_count": 163,
   "id": "6491df97-383a-412c-9740-a75e155cd13d",
   "metadata": {},
   "outputs": [
    {
     "data": {
      "text/plain": [
       "2"
      ]
     },
     "execution_count": 163,
     "metadata": {},
     "output_type": "execute_result"
    }
   ],
   "source": [
    "col"
   ]
  },
  {
   "cell_type": "code",
   "execution_count": 164,
   "id": "1fddde20-68d5-4862-9e27-fd26e67d31be",
   "metadata": {},
   "outputs": [],
   "source": [
    "x=df[['name']]"
   ]
  },
  {
   "cell_type": "code",
   "execution_count": 165,
   "id": "ff4575c1-84ec-479a-9c7b-588ec6288c39",
   "metadata": {},
   "outputs": [
    {
     "data": {
      "text/html": [
       "<div>\n",
       "<style scoped>\n",
       "    .dataframe tbody tr th:only-of-type {\n",
       "        vertical-align: middle;\n",
       "    }\n",
       "\n",
       "    .dataframe tbody tr th {\n",
       "        vertical-align: top;\n",
       "    }\n",
       "\n",
       "    .dataframe thead th {\n",
       "        text-align: right;\n",
       "    }\n",
       "</style>\n",
       "<table border=\"1\" class=\"dataframe\">\n",
       "  <thead>\n",
       "    <tr style=\"text-align: right;\">\n",
       "      <th></th>\n",
       "      <th>name</th>\n",
       "    </tr>\n",
       "  </thead>\n",
       "  <tbody>\n",
       "    <tr>\n",
       "      <th>0</th>\n",
       "      <td>sakil</td>\n",
       "    </tr>\n",
       "    <tr>\n",
       "      <th>1</th>\n",
       "      <td>Nayem</td>\n",
       "    </tr>\n",
       "    <tr>\n",
       "      <th>2</th>\n",
       "      <td>Alisha</td>\n",
       "    </tr>\n",
       "  </tbody>\n",
       "</table>\n",
       "</div>"
      ],
      "text/plain": [
       "     name\n",
       "0   sakil\n",
       "1   Nayem\n",
       "2  Alisha"
      ]
     },
     "execution_count": 165,
     "metadata": {},
     "output_type": "execute_result"
    }
   ],
   "source": [
    "x"
   ]
  },
  {
   "cell_type": "code",
   "execution_count": 166,
   "id": "9a46a80c-5239-4a2b-b4fa-dadd406063b8",
   "metadata": {},
   "outputs": [],
   "source": [
    "x=df['name']"
   ]
  },
  {
   "cell_type": "code",
   "execution_count": 167,
   "id": "8d4711e2-370b-4a90-888a-e2f16e9b655b",
   "metadata": {},
   "outputs": [
    {
     "data": {
      "text/plain": [
       "0     sakil\n",
       "1     Nayem\n",
       "2    Alisha\n",
       "Name: name, dtype: object"
      ]
     },
     "execution_count": 167,
     "metadata": {},
     "output_type": "execute_result"
    }
   ],
   "source": [
    "x"
   ]
  },
  {
   "cell_type": "code",
   "execution_count": null,
   "id": "3504af4f-a148-4996-940b-e5cb461c4a02",
   "metadata": {},
   "outputs": [],
   "source": []
  }
 ],
 "metadata": {
  "kernelspec": {
   "display_name": "Python 3 (ipykernel)",
   "language": "python",
   "name": "python3"
  },
  "language_info": {
   "codemirror_mode": {
    "name": "ipython",
    "version": 3
   },
   "file_extension": ".py",
   "mimetype": "text/x-python",
   "name": "python",
   "nbconvert_exporter": "python",
   "pygments_lexer": "ipython3",
   "version": "3.12.4"
  }
 },
 "nbformat": 4,
 "nbformat_minor": 5
}
