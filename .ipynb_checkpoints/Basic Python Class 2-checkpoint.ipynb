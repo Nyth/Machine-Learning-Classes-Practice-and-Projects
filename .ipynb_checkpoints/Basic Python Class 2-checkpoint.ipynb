{
 "cells": [
  {
   "cell_type": "code",
   "execution_count": 1,
   "id": "53f598a4-ff37-47f6-bc16-434db0463a51",
   "metadata": {},
   "outputs": [
    {
     "name": "stdout",
     "output_type": "stream",
     "text": [
      "Hello World\n"
     ]
    }
   ],
   "source": [
    "print('Hello World') #shift+enter"
   ]
  },
  {
   "cell_type": "code",
   "execution_count": 2,
   "id": "cebee48d-a2fa-41dd-b53a-4f6aab6b8cd1",
   "metadata": {},
   "outputs": [
    {
     "name": "stdout",
     "output_type": "stream",
     "text": [
      "7\n"
     ]
    }
   ],
   "source": [
    "print(2+5)"
   ]
  },
  {
   "cell_type": "markdown",
   "id": "8cd87895-96a7-4a23-9165-0cf6948778b7",
   "metadata": {},
   "source": [
    "Python Basics"
   ]
  },
  {
   "cell_type": "code",
   "execution_count": 1,
   "id": "fa90f843-c5d8-44c0-9b97-1a2f5ed6434c",
   "metadata": {},
   "outputs": [
    {
     "name": "stdout",
     "output_type": "stream",
     "text": [
      "Data Science\n"
     ]
    }
   ],
   "source": [
    "print('Data Science','ai') #shift+tab"
   ]
  },
  {
   "cell_type": "code",
   "execution_count": 2,
   "id": "32dcf901-969d-4f19-bb03-7aa7bffaf08e",
   "metadata": {},
   "outputs": [
    {
     "data": {
      "text/plain": [
       "int"
      ]
     },
     "execution_count": 2,
     "metadata": {},
     "output_type": "execute_result"
    }
   ],
   "source": [
    "type(2)\n"
   ]
  },
  {
   "cell_type": "markdown",
   "id": "47f5b53b-f474-4fec-8f1a-cbdf75c4efa8",
   "metadata": {},
   "source": [
    " from sklearn.linear_model import #tab"
   ]
  },
  {
   "cell_type": "code",
   "execution_count": 4,
   "id": "80f606e5-b49c-4e87-867c-2dd6037eff30",
   "metadata": {},
   "outputs": [
    {
     "name": "stdin",
     "output_type": "stream",
     "text": [
      " 2\n"
     ]
    }
   ],
   "source": [
    "n= input()"
   ]
  },
  {
   "cell_type": "code",
   "execution_count": 5,
   "id": "b048f88d-c929-4a63-becd-95323b357c89",
   "metadata": {},
   "outputs": [],
   "source": [
    "import string"
   ]
  },
  {
   "cell_type": "code",
   "execution_count": 6,
   "id": "d183d580-a504-4f6f-8c70-eef6f17fbb2c",
   "metadata": {},
   "outputs": [
    {
     "data": {
      "text/plain": [
       "'!\"#$%&\\'()*+,-./:;<=>?@[\\\\]^_`{|}~'"
      ]
     },
     "execution_count": 6,
     "metadata": {},
     "output_type": "execute_result"
    }
   ],
   "source": [
    "string.punctuation"
   ]
  },
  {
   "cell_type": "code",
   "execution_count": 7,
   "id": "d892e120-1d8c-40a4-9eb5-5f3d13dd7fa8",
   "metadata": {},
   "outputs": [],
   "source": [
    "x=[10,20,(10,20,100),{1,2,3,4},True,1,2]"
   ]
  },
  {
   "cell_type": "code",
   "execution_count": 8,
   "id": "7fe6d364-eccc-47fb-915b-9c84f103213c",
   "metadata": {},
   "outputs": [
    {
     "data": {
      "text/plain": [
       "[10, 20, (10, 20, 100), {1, 2, 3, 4}, True, 1, 2]"
      ]
     },
     "execution_count": 8,
     "metadata": {},
     "output_type": "execute_result"
    }
   ],
   "source": [
    "x\n"
   ]
  },
  {
   "cell_type": "code",
   "execution_count": 9,
   "id": "7fd1df33-a5ca-43e5-8753-4bec7da50ded",
   "metadata": {},
   "outputs": [],
   "source": [
    "x,y,z=100,120,200"
   ]
  },
  {
   "cell_type": "code",
   "execution_count": 10,
   "id": "e43ec322-b18a-4ec9-aaeb-b24b01fe9e9b",
   "metadata": {},
   "outputs": [
    {
     "data": {
      "text/plain": [
       "100"
      ]
     },
     "execution_count": 10,
     "metadata": {},
     "output_type": "execute_result"
    }
   ],
   "source": [
    "x"
   ]
  },
  {
   "cell_type": "code",
   "execution_count": 11,
   "id": "8fb653fe-842e-46dc-9215-ed90cf36ecd2",
   "metadata": {},
   "outputs": [
    {
     "data": {
      "text/plain": [
       "120"
      ]
     },
     "execution_count": 11,
     "metadata": {},
     "output_type": "execute_result"
    }
   ],
   "source": [
    "y"
   ]
  },
  {
   "cell_type": "markdown",
   "id": "91c8a596-81f9-401d-b35c-021a29991f1e",
   "metadata": {},
   "source": [
    "#multi variable name"
   ]
  },
  {
   "cell_type": "code",
   "execution_count": 21,
   "id": "89c36792-13f8-4fac-9f96-1dc9e1936991",
   "metadata": {},
   "outputs": [
    {
     "name": "stdout",
     "output_type": "stream",
     "text": [
      "inside 100\n",
      "outside 100\n"
     ]
    }
   ],
   "source": [
    "def my_func1():\n",
    "    global y\n",
    "    y=100\n",
    "    print('inside',y)\n",
    "my_func1()\n",
    "print('outside',y)"
   ]
  },
  {
   "cell_type": "code",
   "execution_count": 16,
   "id": "fed97340-ac46-4af1-874f-2b90d785efea",
   "metadata": {},
   "outputs": [
    {
     "name": "stdout",
     "output_type": "stream",
     "text": [
      "120\n"
     ]
    }
   ],
   "source": [
    "print(y)"
   ]
  },
  {
   "cell_type": "code",
   "execution_count": 22,
   "id": "c7a68c01-fb00-4f87-b32e-c9002ea809ec",
   "metadata": {},
   "outputs": [],
   "source": [
    "str1='data science'"
   ]
  },
  {
   "cell_type": "code",
   "execution_count": 23,
   "id": "970d6949-0219-4b5a-94ce-6178360276bd",
   "metadata": {},
   "outputs": [
    {
     "data": {
      "text/plain": [
       "53"
      ]
     },
     "execution_count": 23,
     "metadata": {},
     "output_type": "execute_result"
    }
   ],
   "source": [
    "import sys\n",
    "sys.getsizeof(str1)"
   ]
  },
  {
   "cell_type": "code",
   "execution_count": 24,
   "id": "c86bc833-1e0a-4785-972d-ac98b6c16696",
   "metadata": {},
   "outputs": [
    {
     "data": {
      "text/plain": [
       "'DATA SCIENCE'"
      ]
     },
     "execution_count": 24,
     "metadata": {},
     "output_type": "execute_result"
    }
   ],
   "source": [
    "str1.upper()"
   ]
  },
  {
   "cell_type": "code",
   "execution_count": 25,
   "id": "14f92729-41d1-4cc7-8f07-69d71851d0da",
   "metadata": {},
   "outputs": [
    {
     "data": {
      "text/plain": [
       "'data science'"
      ]
     },
     "execution_count": 25,
     "metadata": {},
     "output_type": "execute_result"
    }
   ],
   "source": [
    "str1.lower()"
   ]
  },
  {
   "cell_type": "code",
   "execution_count": 27,
   "id": "001a33bf-1b84-49e6-a5a2-d02ebba1e2ae",
   "metadata": {},
   "outputs": [
    {
     "data": {
      "text/plain": [
       "'i love bangladesh ,i live here'"
      ]
     },
     "execution_count": 27,
     "metadata": {},
     "output_type": "execute_result"
    }
   ],
   "source": [
    "l='I love Bangladesh ,''i live here'\n",
    "l.lower()"
   ]
  },
  {
   "cell_type": "code",
   "execution_count": 29,
   "id": "f94a9dcd-867d-4638-a1ea-ed549dfefa08",
   "metadata": {},
   "outputs": [
    {
     "data": {
      "text/plain": [
       "['I', 'love', 'Bangladesh', ',i', 'live', 'here']"
      ]
     },
     "execution_count": 29,
     "metadata": {},
     "output_type": "execute_result"
    }
   ],
   "source": [
    "l.split()"
   ]
  },
  {
   "cell_type": "markdown",
   "id": "0d470e49-453c-4eca-b50f-fa84138360fe",
   "metadata": {},
   "source": [
    "x=50\n",
    "y=100\n",
    "if y>x:\n",
    "    print(\"y is greater than x\")\n",
    "elif x==y:\n",
    "    print(\"x and y are equal\")\n",
    "else:\n",
    "    print(\"x is greater than y\")"
   ]
  },
  {
   "cell_type": "code",
   "execution_count": 34,
   "id": "2674a7af-a5eb-401f-8e49-40a94bed5ab7",
   "metadata": {},
   "outputs": [
    {
     "name": "stdout",
     "output_type": "stream",
     "text": [
      "x =  0\n",
      "x =  1\n",
      "x =  2\n",
      "x =  3\n",
      "x =  4\n",
      "x =  5\n",
      "x =  6\n",
      "x =  7\n",
      "x =  8\n",
      "x =  9\n"
     ]
    }
   ],
   "source": [
    "for x in range(10): #start from 0 end in n-1\n",
    "    print('x = ',x)"
   ]
  },
  {
   "cell_type": "code",
   "execution_count": 35,
   "id": "b0770ecf-2bd5-43fc-b47f-984ad069bf9d",
   "metadata": {},
   "outputs": [
    {
     "name": "stdout",
     "output_type": "stream",
     "text": [
      "x =  80\n",
      "x =  85\n",
      "x =  90\n",
      "x =  95\n"
     ]
    }
   ],
   "source": [
    "for x in range(80, 100,5): \n",
    "    print('x = ',x)"
   ]
  },
  {
   "cell_type": "code",
   "execution_count": 37,
   "id": "ef16dbb5-6a3b-4c06-8409-b103c759d048",
   "metadata": {},
   "outputs": [
    {
     "name": "stdout",
     "output_type": "stream",
     "text": [
      "Hello World 11\n",
      "Hello World 13\n",
      "Hello World 15\n",
      "Hello World 17\n",
      "Hello World 19\n"
     ]
    }
   ],
   "source": [
    "for x in range(11,21,2): \n",
    "    print('Hello World',x)"
   ]
  },
  {
   "cell_type": "code",
   "execution_count": 41,
   "id": "93dd3006-cb18-41d6-812d-9c1a5d623019",
   "metadata": {},
   "outputs": [
    {
     "name": "stdout",
     "output_type": "stream",
     "text": [
      "Hello =  10\n",
      "Hello =  9\n",
      "Hello =  8\n",
      "Hello =  7\n",
      "Hello =  6\n",
      "Hello =  5\n",
      "Hello =  4\n",
      "Hello =  3\n",
      "Hello =  2\n",
      "Hello =  1\n"
     ]
    }
   ],
   "source": [
    "for x in range(10,0,-1): #start from 0 end in n-1\n",
    "    print('Hello = ',x)"
   ]
  },
  {
   "cell_type": "code",
   "execution_count": null,
   "id": "84ae548e-c5a2-4217-927a-9996350a7ed5",
   "metadata": {},
   "outputs": [],
   "source": [
    "#while loop"
   ]
  },
  {
   "cell_type": "code",
   "execution_count": null,
   "id": "765df154-ca48-4b7b-8ad2-6ff4f57a8fe1",
   "metadata": {},
   "outputs": [],
   "source": [
    "i=0\n",
    "while i<10:\n",
    "    print('hello',i)\n",
    "    i=i+1"
   ]
  },
  {
   "cell_type": "code",
   "execution_count": null,
   "id": "76c97577-b258-4cc9-b6c6-835397c61c1b",
   "metadata": {},
   "outputs": [],
   "source": []
  }
 ],
 "metadata": {
  "kernelspec": {
   "display_name": "Python 3 (ipykernel)",
   "language": "python",
   "name": "python3"
  },
  "language_info": {
   "codemirror_mode": {
    "name": "ipython",
    "version": 3
   },
   "file_extension": ".py",
   "mimetype": "text/x-python",
   "name": "python",
   "nbconvert_exporter": "python",
   "pygments_lexer": "ipython3",
   "version": "3.12.4"
  }
 },
 "nbformat": 4,
 "nbformat_minor": 5
}
